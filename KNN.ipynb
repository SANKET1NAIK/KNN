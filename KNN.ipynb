{
  "nbformat": 4,
  "nbformat_minor": 0,
  "metadata": {
    "colab": {
      "name": "KNN.ipynb",
      "provenance": [],
      "collapsed_sections": [],
      "mount_file_id": "1rwo2rWR5nBeFT_t6lfRzISwy9m1Z8XdQ",
      "authorship_tag": "ABX9TyOaIKm4Q4Ut6d01FeYBEq5P",
      "include_colab_link": true
    },
    "kernelspec": {
      "name": "python3",
      "display_name": "Python 3"
    },
    "language_info": {
      "name": "python"
    },
    "accelerator": "GPU"
  },
  "cells": [
    {
      "cell_type": "markdown",
      "metadata": {
        "id": "view-in-github",
        "colab_type": "text"
      },
      "source": [
        "<a href=\"https://colab.research.google.com/github/SANKET1NAIK/knn/blob/main/KNN.ipynb\" target=\"_parent\"><img src=\"https://colab.research.google.com/assets/colab-badge.svg\" alt=\"Open In Colab\"/></a>"
      ]
    },
    {
      "cell_type": "code",
      "source": [
        "from google.colab import drive\n",
        "drive.mount('/content/drive')\n"
      ],
      "metadata": {
        "colab": {
          "base_uri": "https://localhost:8080/"
        },
        "id": "6TOSnE5Vnf9I",
        "outputId": "8f80417e-4047-4d72-b145-8c1bbbc741cd"
      },
      "execution_count": null,
      "outputs": [
        {
          "output_type": "stream",
          "name": "stdout",
          "text": [
            "Drive already mounted at /content/drive; to attempt to forcibly remount, call drive.mount(\"/content/drive\", force_remount=True).\n"
          ]
        }
      ]
    },
    {
      "cell_type": "code",
      "execution_count": null,
      "metadata": {
        "colab": {
          "base_uri": "https://localhost:8080/"
        },
        "id": "We6OBpzDmvxU",
        "outputId": "ad00a982-1d19-4c05-8784-0f84acb2e995"
      },
      "outputs": [
        {
          "output_type": "stream",
          "name": "stdout",
          "text": [
            "['player' 'pos' 'age' 'bref_team_id' 'g' 'gs' 'mp' 'fg' 'fga' 'fg.' 'x3p'\n",
            " 'x3pa' 'x3p.' 'x2p' 'x2pa' 'x2p.' 'efg.' 'ft' 'fta' 'ft.' 'orb' 'drb'\n",
            " 'trb' 'ast' 'stl' 'blk' 'tov' 'pf' 'pts' 'season' 'season_end']\n"
          ]
        }
      ],
      "source": [
        "import pandas as pd \n",
        "with open(\"/content/drive/MyDrive/nba_2013.csv\", 'r') as csvfile:\n",
        "    nba = pd.read_csv(csvfile)\n",
        "\n",
        "# The names of all the columns in the data.\n",
        "print(nba.columns.values)"
      ]
    },
    {
      "cell_type": "code",
      "source": [
        "nba.isnull().any()"
      ],
      "metadata": {
        "colab": {
          "base_uri": "https://localhost:8080/"
        },
        "id": "QoqTugIMnqvf",
        "outputId": "26fe6f4d-a885-4c34-eb48-5db917a32cc2"
      },
      "execution_count": null,
      "outputs": [
        {
          "output_type": "execute_result",
          "data": {
            "text/plain": [
              "player          False\n",
              "pos             False\n",
              "age             False\n",
              "bref_team_id    False\n",
              "g               False\n",
              "gs              False\n",
              "mp              False\n",
              "fg              False\n",
              "fga             False\n",
              "fg.              True\n",
              "x3p             False\n",
              "x3pa            False\n",
              "x3p.             True\n",
              "x2p             False\n",
              "x2pa            False\n",
              "x2p.             True\n",
              "efg.             True\n",
              "ft              False\n",
              "fta             False\n",
              "ft.              True\n",
              "orb             False\n",
              "drb             False\n",
              "trb             False\n",
              "ast             False\n",
              "stl             False\n",
              "blk             False\n",
              "tov             False\n",
              "pf              False\n",
              "pts             False\n",
              "season          False\n",
              "season_end      False\n",
              "dtype: bool"
            ]
          },
          "metadata": {},
          "execution_count": 9
        }
      ]
    },
    {
      "cell_type": "code",
      "source": [
        "nba[\"fg.\"].fillna(nba[\"fg.\"].mean(),inplace=True)\n",
        "nba[\"x2p.\"].fillna(nba[\"x2p.\"].mean(),inplace=True)\n",
        "nba[\"efg.\"].fillna(nba[\"efg.\"].mean(),inplace=True)\n",
        "nba[\"x3p.\"].fillna(nba[\"x3p.\"].mean(),inplace=True)\n",
        "nba[\"ft.\"].fillna(nba[\"ft.\"].mean(),inplace=True)"
      ],
      "metadata": {
        "id": "-dcWXM4SnuPl"
      },
      "execution_count": null,
      "outputs": []
    },
    {
      "cell_type": "code",
      "source": [
        "distance_columns = ['age', 'g', 'gs', 'mp', 'fg', 'fga', 'fg.', 'x3p', 'x3pa', 'x3p.', 'x2p', 'x2pa', 'x2p.', 'efg.', 'ft', 'fta', 'ft.', 'orb', 'drb', 'trb', 'ast', 'stl', 'blk', 'tov', 'pf', 'pts']\n",
        "nba_numeric = nba[distance_columns]"
      ],
      "metadata": {
        "id": "9M0Wq_v2nx-K"
      },
      "execution_count": null,
      "outputs": []
    },
    {
      "cell_type": "code",
      "source": [
        "nba_normalized = nba_numeric.apply(lambda x: (x - x.min()) / (x.max() - x.min()))"
      ],
      "metadata": {
        "id": "Ld-CzGrrnx7i"
      },
      "execution_count": null,
      "outputs": []
    },
    {
      "cell_type": "code",
      "source": [
        "nba_category = nba[['player', 'bref_team_id', 'season']]"
      ],
      "metadata": {
        "id": "QQ3l7wRinx4Y"
      },
      "execution_count": null,
      "outputs": []
    },
    {
      "cell_type": "code",
      "source": [
        "nba = pd.concat([nba_category, nba_normalized], axis=1)\n",
        "\n",
        "from sklearn.model_selection import train_test_split\n",
        "\n",
        "# The columns that we will be making predictions with.\n",
        "x_columns = nba[['age', 'g', 'gs', 'mp', 'fg', 'fga', 'fg.', 'x3p', 'x3pa', 'x3p.', 'x2p', 'x2pa', 'x2p.', 'efg.', 'ft', 'fta', 'ft.', 'orb', 'drb', 'trb', 'ast', 'stl', 'blk', 'tov', 'pf']]\n",
        "\n",
        "# The column that we want to predict.\n",
        "y_column = nba[\"pts\"]\n",
        "\n",
        "x_train, x_test, y_train, y_test = train_test_split(x_columns, y_column, test_size=0.3, random_state=0)"
      ],
      "metadata": {
        "id": "eBmXr_y5nx1Z"
      },
      "execution_count": null,
      "outputs": []
    },
    {
      "cell_type": "code",
      "source": [
        "from sklearn.neighbors import KNeighborsRegressor\n",
        "from sklearn import metrics\n",
        "\n",
        "# check for increasing neighbour values to see which has the highest regression score\n",
        "\n",
        "for k in range(10):\n",
        "    k_value = k + 1\n",
        "    knn = KNeighborsRegressor(n_neighbors = k_value)\n",
        "    knn.fit(x_train, y_train) \n",
        "    y_pred = knn.predict(x_test)\n",
        "    print (\"Regression score is:\",format(metrics.r2_score(y_test, y_pred),'.4f'), \"for k_value:\", k_value)"
      ],
      "metadata": {
        "colab": {
          "base_uri": "https://localhost:8080/"
        },
        "id": "iKyBs-kqoD07",
        "outputId": "8e682a75-a63a-4546-9251-62afe817a6a6"
      },
      "execution_count": null,
      "outputs": [
        {
          "output_type": "stream",
          "name": "stdout",
          "text": [
            "Regression score is: 0.9145 for k_value: 1\n",
            "Regression score is: 0.9464 for k_value: 2\n",
            "Regression score is: 0.9548 for k_value: 3\n",
            "Regression score is: 0.9594 for k_value: 4\n",
            "Regression score is: 0.9583 for k_value: 5\n",
            "Regression score is: 0.9579 for k_value: 6\n",
            "Regression score is: 0.9579 for k_value: 7\n",
            "Regression score is: 0.9609 for k_value: 8\n",
            "Regression score is: 0.9576 for k_value: 9\n",
            "Regression score is: 0.9557 for k_value: 10\n"
          ]
        }
      ]
    },
    {
      "cell_type": "code",
      "source": [
        "knn = KNeighborsRegressor(n_neighbors = 8)\n",
        "knn.fit(x_train, y_train) \n",
        "y_pred = knn.predict(x_test)\n",
        "print (\"Mean Squared Error is:\", format(metrics.mean_squared_error(y_test, y_pred), '.7f'))\n",
        "print (\"Regression score is:\", format(metrics.r2_score(y_test, y_pred),'.4f'))"
      ],
      "metadata": {
        "colab": {
          "base_uri": "https://localhost:8080/"
        },
        "id": "82UupQcgoDx0",
        "outputId": "c132c84c-38e7-4b66-b83d-76748e7e03d7"
      },
      "execution_count": null,
      "outputs": [
        {
          "output_type": "stream",
          "name": "stdout",
          "text": [
            "Mean Squared Error is: 0.0011143\n",
            "Regression score is: 0.9609\n"
          ]
        }
      ]
    },
    {
      "cell_type": "code",
      "source": [
        "Test_With_Predicted = pd.DataFrame({'Actual Points': y_test.tolist(), 'Predicted Points': y_pred.tolist()})\n",
        "\n",
        "Test_With_Predicted"
      ],
      "metadata": {
        "colab": {
          "base_uri": "https://localhost:8080/",
          "height": 423
        },
        "id": "4QceTe7BoDue",
        "outputId": "6fb05bec-eccd-4097-a9a9-9b80a61f1286"
      },
      "execution_count": null,
      "outputs": [
        {
          "output_type": "execute_result",
          "data": {
            "text/html": [
              "\n",
              "  <div id=\"df-b5a91304-1296-44bf-9364-25443d3f4f04\">\n",
              "    <div class=\"colab-df-container\">\n",
              "      <div>\n",
              "<style scoped>\n",
              "    .dataframe tbody tr th:only-of-type {\n",
              "        vertical-align: middle;\n",
              "    }\n",
              "\n",
              "    .dataframe tbody tr th {\n",
              "        vertical-align: top;\n",
              "    }\n",
              "\n",
              "    .dataframe thead th {\n",
              "        text-align: right;\n",
              "    }\n",
              "</style>\n",
              "<table border=\"1\" class=\"dataframe\">\n",
              "  <thead>\n",
              "    <tr style=\"text-align: right;\">\n",
              "      <th></th>\n",
              "      <th>Actual Points</th>\n",
              "      <th>Predicted Points</th>\n",
              "    </tr>\n",
              "  </thead>\n",
              "  <tbody>\n",
              "    <tr>\n",
              "      <th>0</th>\n",
              "      <td>0.168145</td>\n",
              "      <td>0.125723</td>\n",
              "    </tr>\n",
              "    <tr>\n",
              "      <th>1</th>\n",
              "      <td>0.276514</td>\n",
              "      <td>0.297243</td>\n",
              "    </tr>\n",
              "    <tr>\n",
              "      <th>2</th>\n",
              "      <td>0.422676</td>\n",
              "      <td>0.363189</td>\n",
              "    </tr>\n",
              "    <tr>\n",
              "      <th>3</th>\n",
              "      <td>0.007327</td>\n",
              "      <td>0.011088</td>\n",
              "    </tr>\n",
              "    <tr>\n",
              "      <th>4</th>\n",
              "      <td>0.381026</td>\n",
              "      <td>0.373939</td>\n",
              "    </tr>\n",
              "    <tr>\n",
              "      <th>...</th>\n",
              "      <td>...</td>\n",
              "      <td>...</td>\n",
              "    </tr>\n",
              "    <tr>\n",
              "      <th>140</th>\n",
              "      <td>0.426919</td>\n",
              "      <td>0.421664</td>\n",
              "    </tr>\n",
              "    <tr>\n",
              "      <th>141</th>\n",
              "      <td>0.013498</td>\n",
              "      <td>0.019379</td>\n",
              "    </tr>\n",
              "    <tr>\n",
              "      <th>142</th>\n",
              "      <td>0.312379</td>\n",
              "      <td>0.303943</td>\n",
              "    </tr>\n",
              "    <tr>\n",
              "      <th>143</th>\n",
              "      <td>0.306980</td>\n",
              "      <td>0.273766</td>\n",
              "    </tr>\n",
              "    <tr>\n",
              "      <th>144</th>\n",
              "      <td>0.036251</td>\n",
              "      <td>0.029985</td>\n",
              "    </tr>\n",
              "  </tbody>\n",
              "</table>\n",
              "<p>145 rows × 2 columns</p>\n",
              "</div>\n",
              "      <button class=\"colab-df-convert\" onclick=\"convertToInteractive('df-b5a91304-1296-44bf-9364-25443d3f4f04')\"\n",
              "              title=\"Convert this dataframe to an interactive table.\"\n",
              "              style=\"display:none;\">\n",
              "        \n",
              "  <svg xmlns=\"http://www.w3.org/2000/svg\" height=\"24px\"viewBox=\"0 0 24 24\"\n",
              "       width=\"24px\">\n",
              "    <path d=\"M0 0h24v24H0V0z\" fill=\"none\"/>\n",
              "    <path d=\"M18.56 5.44l.94 2.06.94-2.06 2.06-.94-2.06-.94-.94-2.06-.94 2.06-2.06.94zm-11 1L8.5 8.5l.94-2.06 2.06-.94-2.06-.94L8.5 2.5l-.94 2.06-2.06.94zm10 10l.94 2.06.94-2.06 2.06-.94-2.06-.94-.94-2.06-.94 2.06-2.06.94z\"/><path d=\"M17.41 7.96l-1.37-1.37c-.4-.4-.92-.59-1.43-.59-.52 0-1.04.2-1.43.59L10.3 9.45l-7.72 7.72c-.78.78-.78 2.05 0 2.83L4 21.41c.39.39.9.59 1.41.59.51 0 1.02-.2 1.41-.59l7.78-7.78 2.81-2.81c.8-.78.8-2.07 0-2.86zM5.41 20L4 18.59l7.72-7.72 1.47 1.35L5.41 20z\"/>\n",
              "  </svg>\n",
              "      </button>\n",
              "      \n",
              "  <style>\n",
              "    .colab-df-container {\n",
              "      display:flex;\n",
              "      flex-wrap:wrap;\n",
              "      gap: 12px;\n",
              "    }\n",
              "\n",
              "    .colab-df-convert {\n",
              "      background-color: #E8F0FE;\n",
              "      border: none;\n",
              "      border-radius: 50%;\n",
              "      cursor: pointer;\n",
              "      display: none;\n",
              "      fill: #1967D2;\n",
              "      height: 32px;\n",
              "      padding: 0 0 0 0;\n",
              "      width: 32px;\n",
              "    }\n",
              "\n",
              "    .colab-df-convert:hover {\n",
              "      background-color: #E2EBFA;\n",
              "      box-shadow: 0px 1px 2px rgba(60, 64, 67, 0.3), 0px 1px 3px 1px rgba(60, 64, 67, 0.15);\n",
              "      fill: #174EA6;\n",
              "    }\n",
              "\n",
              "    [theme=dark] .colab-df-convert {\n",
              "      background-color: #3B4455;\n",
              "      fill: #D2E3FC;\n",
              "    }\n",
              "\n",
              "    [theme=dark] .colab-df-convert:hover {\n",
              "      background-color: #434B5C;\n",
              "      box-shadow: 0px 1px 3px 1px rgba(0, 0, 0, 0.15);\n",
              "      filter: drop-shadow(0px 1px 2px rgba(0, 0, 0, 0.3));\n",
              "      fill: #FFFFFF;\n",
              "    }\n",
              "  </style>\n",
              "\n",
              "      <script>\n",
              "        const buttonEl =\n",
              "          document.querySelector('#df-b5a91304-1296-44bf-9364-25443d3f4f04 button.colab-df-convert');\n",
              "        buttonEl.style.display =\n",
              "          google.colab.kernel.accessAllowed ? 'block' : 'none';\n",
              "\n",
              "        async function convertToInteractive(key) {\n",
              "          const element = document.querySelector('#df-b5a91304-1296-44bf-9364-25443d3f4f04');\n",
              "          const dataTable =\n",
              "            await google.colab.kernel.invokeFunction('convertToInteractive',\n",
              "                                                     [key], {});\n",
              "          if (!dataTable) return;\n",
              "\n",
              "          const docLinkHtml = 'Like what you see? Visit the ' +\n",
              "            '<a target=\"_blank\" href=https://colab.research.google.com/notebooks/data_table.ipynb>data table notebook</a>'\n",
              "            + ' to learn more about interactive tables.';\n",
              "          element.innerHTML = '';\n",
              "          dataTable['output_type'] = 'display_data';\n",
              "          await google.colab.output.renderOutput(dataTable, element);\n",
              "          const docLink = document.createElement('div');\n",
              "          docLink.innerHTML = docLinkHtml;\n",
              "          element.appendChild(docLink);\n",
              "        }\n",
              "      </script>\n",
              "    </div>\n",
              "  </div>\n",
              "  "
            ],
            "text/plain": [
              "     Actual Points  Predicted Points\n",
              "0         0.168145          0.125723\n",
              "1         0.276514          0.297243\n",
              "2         0.422676          0.363189\n",
              "3         0.007327          0.011088\n",
              "4         0.381026          0.373939\n",
              "..             ...               ...\n",
              "140       0.426919          0.421664\n",
              "141       0.013498          0.019379\n",
              "142       0.312379          0.303943\n",
              "143       0.306980          0.273766\n",
              "144       0.036251          0.029985\n",
              "\n",
              "[145 rows x 2 columns]"
            ]
          },
          "metadata": {},
          "execution_count": 17
        }
      ]
    },
    {
      "cell_type": "code",
      "source": [
        ""
      ],
      "metadata": {
        "id": "tRb61CSZoDrm"
      },
      "execution_count": null,
      "outputs": []
    },
    {
      "cell_type": "code",
      "source": [
        ""
      ],
      "metadata": {
        "id": "IWkl_tp5oDlq"
      },
      "execution_count": null,
      "outputs": []
    }
  ]
}